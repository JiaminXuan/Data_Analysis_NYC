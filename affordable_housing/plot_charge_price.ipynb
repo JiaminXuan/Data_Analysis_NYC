{
 "metadata": {
  "name": "",
  "signature": "sha256:5c048d36894b04877a35c8de85ed4e999ec601631ba7b5a3f77409ee37346606"
 },
 "nbformat": 3,
 "nbformat_minor": 0,
 "worksheets": [
  {
   "cells": [
    {
     "cell_type": "code",
     "collapsed": false,
     "input": [
      "from matplotlib import pyplot as plt\n",
      "%matplotlib inline  \n",
      "from pandas import DataFrame as df\n",
      "import numpy as np"
     ],
     "language": "python",
     "metadata": {},
     "outputs": [],
     "prompt_number": 23
    },
    {
     "cell_type": "code",
     "collapsed": false,
     "input": [
      "price=df.from_csv('avg_price_month.csv',index_col=None)\n",
      "charge=df.from_csv('charges_month.csv',index_col=None)"
     ],
     "language": "python",
     "metadata": {},
     "outputs": [],
     "prompt_number": 17
    },
    {
     "cell_type": "code",
     "collapsed": false,
     "input": [
      "price.sort(columns=['zip_code','year','month'],inplace=True)"
     ],
     "language": "python",
     "metadata": {},
     "outputs": [],
     "prompt_number": 18
    },
    {
     "cell_type": "code",
     "collapsed": false,
     "input": [
      "charge.sort(columns=['zip','year','month'],inplace=True)"
     ],
     "language": "python",
     "metadata": {},
     "outputs": [],
     "prompt_number": 19
    },
    {
     "cell_type": "code",
     "collapsed": false,
     "input": [
      "plt.plot(price.groupby(['year']).sum()['avg'][3:],)\n"
     ],
     "language": "python",
     "metadata": {},
     "outputs": [
      {
       "metadata": {},
       "output_type": "pyout",
       "prompt_number": 55,
       "text": [
        "[<matplotlib.lines.Line2D at 0x10adf1350>]"
       ]
      },
      {
       "metadata": {},
       "output_type": "display_data",
       "png": "[encoded data removed]",
       "text": [
        "<matplotlib.figure.Figure at 0x107ee4f90>"
       ]
      }
     ],
     "prompt_number": 55
    },
    {
     "cell_type": "code",
     "collapsed": false,
     "input": [
      "price.groupby(['year']).sum()[3:]"
     ],
     "language": "python",
     "metadata": {},
     "outputs": [
      {
       "html": [
        "<div style=\"max-height:1000px;max-width:1500px;overflow:auto;\">\n",
        "<table border=\"1\" class=\"dataframe\">\n",
        "  <thead>\n",
        "    <tr style=\"text-align: right;\">\n",
        "      <th></th>\n",
        "      <th>zip_code</th>\n",
        "      <th>month</th>\n",
        "      <th>avg</th>\n",
        "    </tr>\n",
        "    <tr>\n",
        "      <th>year</th>\n",
        "      <th></th>\n",
        "      <th></th>\n",
        "      <th></th>\n",
        "    </tr>\n",
        "  </thead>\n",
        "  <tbody>\n",
        "    <tr>\n",
        "      <th>2006</th>\n",
        "      <td> 22339295</td>\n",
        "      <td> 13424</td>\n",
        "      <td> 2.221882e+09</td>\n",
        "    </tr>\n",
        "    <tr>\n",
        "      <th>2007</th>\n",
        "      <td> 22488504</td>\n",
        "      <td> 13545</td>\n",
        "      <td> 1.560885e+09</td>\n",
        "    </tr>\n",
        "    <tr>\n",
        "      <th>2008</th>\n",
        "      <td> 22512480</td>\n",
        "      <td> 13527</td>\n",
        "      <td> 1.416519e+09</td>\n",
        "    </tr>\n",
        "    <tr>\n",
        "      <th>2009</th>\n",
        "      <td> 22543526</td>\n",
        "      <td> 13601</td>\n",
        "      <td> 1.168648e+09</td>\n",
        "    </tr>\n",
        "    <tr>\n",
        "      <th>2010</th>\n",
        "      <td> 22869259</td>\n",
        "      <td> 13722</td>\n",
        "      <td> 1.467579e+09</td>\n",
        "    </tr>\n",
        "    <tr>\n",
        "      <th>2011</th>\n",
        "      <td> 22769562</td>\n",
        "      <td> 13687</td>\n",
        "      <td> 1.389606e+09</td>\n",
        "    </tr>\n",
        "    <tr>\n",
        "      <th>2012</th>\n",
        "      <td> 22957291</td>\n",
        "      <td> 13796</td>\n",
        "      <td> 1.658554e+09</td>\n",
        "    </tr>\n",
        "    <tr>\n",
        "      <th>2013</th>\n",
        "      <td> 22888116</td>\n",
        "      <td> 13766</td>\n",
        "      <td> 1.832131e+09</td>\n",
        "    </tr>\n",
        "    <tr>\n",
        "      <th>2014</th>\n",
        "      <td> 20645588</td>\n",
        "      <td> 11271</td>\n",
        "      <td> 2.576343e+09</td>\n",
        "    </tr>\n",
        "  </tbody>\n",
        "</table>\n",
        "</div>"
       ],
       "metadata": {},
       "output_type": "pyout",
       "prompt_number": 54,
       "text": [
        "      zip_code  month           avg\n",
        "year                               \n",
        "2006  22339295  13424  2.221882e+09\n",
        "2007  22488504  13545  1.560885e+09\n",
        "2008  22512480  13527  1.416519e+09\n",
        "2009  22543526  13601  1.168648e+09\n",
        "2010  22869259  13722  1.467579e+09\n",
        "2011  22769562  13687  1.389606e+09\n",
        "2012  22957291  13796  1.658554e+09\n",
        "2013  22888116  13766  1.832131e+09\n",
        "2014  20645588  11271  2.576343e+09"
       ]
      }
     ],
     "prompt_number": 54
    },
    {
     "cell_type": "code",
     "collapsed": false,
     "input": [
      "plt.plot(charge.groupby(['year']).sum()['count'][2:-1],)"
     ],
     "language": "python",
     "metadata": {},
     "outputs": [
      {
       "metadata": {},
       "output_type": "pyout",
       "prompt_number": 53,
       "text": [
        "[<matplotlib.lines.Line2D at 0x10ac89c50>]"
       ]
      },
      {
       "metadata": {},
       "output_type": "display_data",
       "png": "[encoded data removed]",
       "text": [
        "<matplotlib.figure.Figure at 0x10ab9e190>"
       ]
      }
     ],
     "prompt_number": 53
    },
    {
     "cell_type": "code",
     "collapsed": false,
     "input": [
      "charge.groupby(['year']).sum()['count'][2:-1]"
     ],
     "language": "python",
     "metadata": {},
     "outputs": [
      {
       "metadata": {},
       "output_type": "pyout",
       "prompt_number": 52,
       "text": [
        "year\n",
        "2006    2737\n",
        "2007    3177\n",
        "2008    3142\n",
        "2009    3158\n",
        "2010    3215\n",
        "2011    3084\n",
        "2012    2866\n",
        "2013    3036\n",
        "2014    3158\n",
        "Name: count, dtype: int64"
       ]
      }
     ],
     "prompt_number": 52
    },
    {
     "cell_type": "code",
     "collapsed": false,
     "input": [],
     "language": "python",
     "metadata": {},
     "outputs": []
    }
   ],
   "metadata": {}
  }
 ]
}