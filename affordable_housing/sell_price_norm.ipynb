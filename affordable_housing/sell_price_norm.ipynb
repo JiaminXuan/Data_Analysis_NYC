{
 "metadata": {
  "name": "",
  "signature": "sha256:90e053ead066b3e82db0f421a63b42ca30400690dbedbf5e788b7a9a13826376"
 },
 "nbformat": 3,
 "nbformat_minor": 0,
 "worksheets": [
  {
   "cells": [
    {
     "cell_type": "code",
     "collapsed": false,
     "input": [
      "from pandas import DataFrame as df"
     ],
     "language": "python",
     "metadata": {},
     "outputs": [],
     "prompt_number": 57
    },
    {
     "cell_type": "code",
     "collapsed": false,
     "input": [
      "buy_price=df.from_csv('real_estate_usi.csv')\n",
      "buy_price=buy_price[buy_price.residential_units>0]"
     ],
     "language": "python",
     "metadata": {},
     "outputs": [],
     "prompt_number": 77
    },
    {
     "cell_type": "code",
     "collapsed": false,
     "input": [
      "list(buy_price.columns)"
     ],
     "language": "python",
     "metadata": {},
     "outputs": [
      {
       "metadata": {},
       "output_type": "pyout",
       "prompt_number": 78,
       "text": [
        "['borough',\n",
        " 'neighborhood',\n",
        " 'building_class_category',\n",
        " 'tax_class_at_present',\n",
        " 'block',\n",
        " 'lot',\n",
        " 'ease-ment',\n",
        " 'building_class_at_present',\n",
        " 'address',\n",
        " 'apartment_number',\n",
        " 'zip_code',\n",
        " 'residential_units',\n",
        " 'commercial_units',\n",
        " 'total_units',\n",
        " 'land_square_feet',\n",
        " 'gross_square_feet',\n",
        " 'year_built',\n",
        " 'tax_class_at_time_of_sale',\n",
        " 'building_class_at_time_of_sale',\n",
        " 'sale_price',\n",
        " 'sale_date1',\n",
        " 'unit_count']"
       ]
      }
     ],
     "prompt_number": 78
    },
    {
     "cell_type": "code",
     "collapsed": false,
     "input": [
      "buy_price.dtypes\n",
      "string_column_name=buy_price.columns[[1,2,3,6,7,8,9,18]]\n",
      "string_column_list=[1,2,3,6,7,8,9,18]\n",
      "buy_price_encode=buy_price"
     ],
     "language": "python",
     "metadata": {},
     "outputs": [],
     "prompt_number": 79
    },
    {
     "cell_type": "code",
     "collapsed": false,
     "input": [
      "string_column_list"
     ],
     "language": "python",
     "metadata": {},
     "outputs": [
      {
       "metadata": {},
       "output_type": "pyout",
       "prompt_number": 80,
       "text": [
        "[1, 2, 3, 6, 7, 8, 9, 18]"
       ]
      }
     ],
     "prompt_number": 80
    },
    {
     "cell_type": "code",
     "collapsed": false,
     "input": [
      "import sklearn.preprocessing as pre\n",
      "from datetime import datetime as dt\n",
      "import numpy as np"
     ],
     "language": "python",
     "metadata": {},
     "outputs": [],
     "prompt_number": 81
    },
    {
     "cell_type": "code",
     "collapsed": false,
     "input": [
      "for num in string_column_list: \n",
      "    le = pre.LabelEncoder()\n",
      "    le.fit(buy_price.iloc[:,num])\n",
      "    # list(le.classes_)\n",
      "    buy_price_encode.iloc[:,num]=le.transform(buy_price.iloc[:,num]) \n",
      "    # list(le.inverse_transform([2, 2, 1]))"
     ],
     "language": "python",
     "metadata": {},
     "outputs": [],
     "prompt_number": 82
    },
    {
     "cell_type": "code",
     "collapsed": false,
     "input": [
      "def parse(s):\n",
      "    try:\n",
      "        return dt.strptime(s, \"%Y-%m-%d %H:%M:%S\").year\n",
      "    except:\n",
      "        pass\n",
      "buy_price_encode['year']=buy_price_encode.sale_date1.apply(parse)\n",
      "def parse(s):\n",
      "    try:\n",
      "        return dt.strptime(s, \"%Y-%m-%d %H:%M:%S\").month\n",
      "    except:\n",
      "        pass\n",
      "buy_price_encode['month']=buy_price_encode.sale_date1.apply(parse)"
     ],
     "language": "python",
     "metadata": {},
     "outputs": [],
     "prompt_number": 83
    },
    {
     "cell_type": "code",
     "collapsed": false,
     "input": [
      "grouped=buy_price_encode.groupby(['zip_code','year','month'])"
     ],
     "language": "python",
     "metadata": {},
     "outputs": [],
     "prompt_number": 84
    },
    {
     "cell_type": "code",
     "collapsed": false,
     "input": [
      "final=grouped.agg({'borough':np.mean,\n",
      " 'neighborhood':np.mean,\n",
      " 'building_class_category':np.mean,\n",
      " 'tax_class_at_present':np.mean,\n",
      " 'block':np.mean,\n",
      " 'lot':np.mean,\n",
      " 'ease-ment':np.mean,\n",
      " 'building_class_at_present':np.mean,\n",
      " 'address':np.mean,\n",
      " 'apartment_number':np.mean,\n",
      " 'residential_units':np.mean,\n",
      " 'commercial_units':np.mean,\n",
      " 'total_units':np.mean,\n",
      " 'land_square_feet':np.mean,\n",
      " 'gross_square_feet':np.mean,\n",
      " 'year_built':np.mean,\n",
      " 'tax_class_at_time_of_sale':np.mean,\n",
      " 'building_class_at_time_of_sale':np.mean,\n",
      " 'sale_price':np.mean})"
     ],
     "language": "python",
     "metadata": {},
     "outputs": [],
     "prompt_number": 90
    },
    {
     "cell_type": "code",
     "collapsed": false,
     "input": [
      "final.to_csv('sell_price.csv')"
     ],
     "language": "python",
     "metadata": {},
     "outputs": [],
     "prompt_number": 91
    },
    {
     "cell_type": "code",
     "collapsed": false,
     "input": [],
     "language": "python",
     "metadata": {},
     "outputs": []
    }
   ],
   "metadata": {}
  }
 ]
}