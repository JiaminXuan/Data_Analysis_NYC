{
 "metadata": {
  "name": "",
  "signature": "sha256:ecf52e0d80ec2fe6d52fe92981061c92454b2d07d507c1878b4e99721b78cc13"
 },
 "nbformat": 3,
 "nbformat_minor": 0,
 "worksheets": [
  {
   "cells": [
    {
     "cell_type": "code",
     "collapsed": false,
     "input": [
      "from pandas import DataFrame as df"
     ],
     "language": "python",
     "metadata": {},
     "outputs": [],
     "prompt_number": 36
    },
    {
     "cell_type": "code",
     "collapsed": false,
     "input": [
      "charges=df.from_csv('3/Litigation20150228.txt',sep='|')\n",
      "charges.to_csv('litigation.csv')"
     ],
     "language": "python",
     "metadata": {},
     "outputs": [],
     "prompt_number": 73
    },
    {
     "cell_type": "code",
     "collapsed": false,
     "input": [
      "reduce(lambda x,y: x+y, charges.CaseOpenDate.isnull())"
     ],
     "language": "python",
     "metadata": {},
     "outputs": [
      {
       "metadata": {},
       "output_type": "pyout",
       "prompt_number": 70,
       "text": [
        "True"
       ]
      }
     ],
     "prompt_number": 70
    },
    {
     "cell_type": "code",
     "collapsed": false,
     "input": [
      "charges.CaseOpenDate=charges.CaseOpenDate.dropna()"
     ],
     "language": "python",
     "metadata": {},
     "outputs": [],
     "prompt_number": 69
    },
    {
     "cell_type": "code",
     "collapsed": false,
     "input": [
      "datelist=[]\n",
      "for item in charges.CaseOpenDate:\n",
      "    try:\n",
      "        if item[-4:] not in datelist:\n",
      "            datelist.append(item[-4:])\n",
      "    except:\n",
      "        pass\n",
      "set(datelist)"
     ],
     "language": "python",
     "metadata": {},
     "outputs": [
      {
       "metadata": {},
       "output_type": "pyout",
       "prompt_number": 50,
       "text": [
        "{'2000',\n",
        " '2004',\n",
        " '2005',\n",
        " '2006',\n",
        " '2007',\n",
        " '2008',\n",
        " '2009',\n",
        " '2010',\n",
        " '2011',\n",
        " '2012',\n",
        " '2013',\n",
        " '2014',\n",
        " '2015'}"
       ]
      }
     ],
     "prompt_number": 50
    },
    {
     "cell_type": "code",
     "collapsed": false,
     "input": [
      "charges[charges['CaseType']=='Tenant Action'].groupby('Zip').size()"
     ],
     "language": "python",
     "metadata": {},
     "outputs": [
      {
       "metadata": {},
       "output_type": "pyout",
       "prompt_number": 72,
       "text": [
        "Zip\n",
        "10001     49\n",
        "10002    120\n",
        "10003    109\n",
        "10005      2\n",
        "10006      1\n",
        "10007      7\n",
        "10009    130\n",
        "10010     35\n",
        "10011     95\n",
        "10012     73\n",
        "10013     52\n",
        "10014     66\n",
        "10016     92\n",
        "10017     23\n",
        "10018     20\n",
        "...\n",
        "11423    102\n",
        "11426     11\n",
        "11427     40\n",
        "11428     39\n",
        "11429     90\n",
        "11432    184\n",
        "11433    228\n",
        "11434    279\n",
        "11435    218\n",
        "11436    101\n",
        "11691    323\n",
        "11692    109\n",
        "11693     34\n",
        "11694     49\n",
        "11697      2\n",
        "Length: 176, dtype: int64"
       ]
      }
     ],
     "prompt_number": 72
    },
    {
     "cell_type": "code",
     "collapsed": false,
     "input": [
      "from datetime import datetime\n",
      "def parse(s):\n",
      "    try:\n",
      "        return datetime.strptime(s, \"%m/%d/%Y\")\n",
      "    except:\n",
      "        pass\n",
      "charges.CaseOpenDate.apply(parse)"
     ],
     "language": "python",
     "metadata": {},
     "outputs": [
      {
       "metadata": {},
       "output_type": "pyout",
       "prompt_number": 108,
       "text": [
        "LitigationID\n",
        "98018          2009-04-17\n",
        "98020          2009-04-21\n",
        "98022          2009-04-17\n",
        "98024          2009-04-09\n",
        "98026          2009-04-20\n",
        "98036          2009-05-21\n",
        "98038          2009-08-11\n",
        "98040          2009-06-25\n",
        "98064          2009-06-01\n",
        "98066          2009-05-29\n",
        "98068          2009-06-10\n",
        "9807           2005-02-10\n",
        "98071          2009-06-25\n",
        "98073          2009-07-01\n",
        "98077          2009-02-19\n",
        "...\n",
        "99954          2009-08-14\n",
        "99956          2009-06-25\n",
        "99958          2009-06-10\n",
        "99961          2009-06-12\n",
        "99963          2009-06-16\n",
        "99965          2009-05-27\n",
        "99967          2009-05-27\n",
        "99969          2009-05-15\n",
        "99971          2009-05-28\n",
        "99973          2009-05-26\n",
        "99975          2009-05-27\n",
        "99977          2009-05-26\n",
        "99979          2009-05-27\n",
        "99981          2009-05-22\n",
        "99983          2009-05-28\n",
        "Name: CaseOpenDate, Length: 55864, dtype: datetime64[ns]"
       ]
      }
     ],
     "prompt_number": 108
    },
    {
     "cell_type": "code",
     "collapsed": false,
     "input": [],
     "language": "python",
     "metadata": {},
     "outputs": []
    }
   ],
   "metadata": {}
  }
 ]
}